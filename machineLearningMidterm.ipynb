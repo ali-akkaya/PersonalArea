{
 "cells": [
  {
   "cell_type": "code",
   "execution_count": 43,
   "outputs": [
    {
     "data": {
      "text/plain": "              Rooms         Price      Distance      Postcode      Bedroom2  \\\ncount  13580.000000  1.358000e+04  13580.000000  13580.000000  13580.000000   \nmean       2.937997  1.075684e+06     10.137776   3105.301915      2.914728   \nstd        0.955748  6.393107e+05      5.868725     90.676964      0.965921   \nmin        1.000000  8.500000e+04      0.000000   3000.000000      0.000000   \n25%        2.000000  6.500000e+05      6.100000   3044.000000      2.000000   \n50%        3.000000  9.030000e+05      9.200000   3084.000000      3.000000   \n75%        3.000000  1.330000e+06     13.000000   3148.000000      3.000000   \nmax       10.000000  9.000000e+06     48.100000   3977.000000     20.000000   \n\n           Bathroom           Car       Landsize  BuildingArea    YearBuilt  \\\ncount  13580.000000  13518.000000   13580.000000   7130.000000  8205.000000   \nmean       1.534242      1.610075     558.416127    151.967650  1964.684217   \nstd        0.691712      0.962634    3990.669241    541.014538    37.273762   \nmin        0.000000      0.000000       0.000000      0.000000  1196.000000   \n25%        1.000000      1.000000     177.000000     93.000000  1940.000000   \n50%        1.000000      2.000000     440.000000    126.000000  1970.000000   \n75%        2.000000      2.000000     651.000000    174.000000  1999.000000   \nmax        8.000000     10.000000  433014.000000  44515.000000  2018.000000   \n\n          Lattitude    Longtitude  Propertycount  \ncount  13580.000000  13580.000000   13580.000000  \nmean     -37.809203    144.995216    7454.417378  \nstd        0.079260      0.103916    4378.581772  \nmin      -38.182550    144.431810     249.000000  \n25%      -37.856822    144.929600    4380.000000  \n50%      -37.802355    145.000100    6555.000000  \n75%      -37.756400    145.058305   10331.000000  \nmax      -37.408530    145.526350   21650.000000  ",
      "text/html": "<div>\n<style scoped>\n    .dataframe tbody tr th:only-of-type {\n        vertical-align: middle;\n    }\n\n    .dataframe tbody tr th {\n        vertical-align: top;\n    }\n\n    .dataframe thead th {\n        text-align: right;\n    }\n</style>\n<table border=\"1\" class=\"dataframe\">\n  <thead>\n    <tr style=\"text-align: right;\">\n      <th></th>\n      <th>Rooms</th>\n      <th>Price</th>\n      <th>Distance</th>\n      <th>Postcode</th>\n      <th>Bedroom2</th>\n      <th>Bathroom</th>\n      <th>Car</th>\n      <th>Landsize</th>\n      <th>BuildingArea</th>\n      <th>YearBuilt</th>\n      <th>Lattitude</th>\n      <th>Longtitude</th>\n      <th>Propertycount</th>\n    </tr>\n  </thead>\n  <tbody>\n    <tr>\n      <th>count</th>\n      <td>13580.000000</td>\n      <td>1.358000e+04</td>\n      <td>13580.000000</td>\n      <td>13580.000000</td>\n      <td>13580.000000</td>\n      <td>13580.000000</td>\n      <td>13518.000000</td>\n      <td>13580.000000</td>\n      <td>7130.000000</td>\n      <td>8205.000000</td>\n      <td>13580.000000</td>\n      <td>13580.000000</td>\n      <td>13580.000000</td>\n    </tr>\n    <tr>\n      <th>mean</th>\n      <td>2.937997</td>\n      <td>1.075684e+06</td>\n      <td>10.137776</td>\n      <td>3105.301915</td>\n      <td>2.914728</td>\n      <td>1.534242</td>\n      <td>1.610075</td>\n      <td>558.416127</td>\n      <td>151.967650</td>\n      <td>1964.684217</td>\n      <td>-37.809203</td>\n      <td>144.995216</td>\n      <td>7454.417378</td>\n    </tr>\n    <tr>\n      <th>std</th>\n      <td>0.955748</td>\n      <td>6.393107e+05</td>\n      <td>5.868725</td>\n      <td>90.676964</td>\n      <td>0.965921</td>\n      <td>0.691712</td>\n      <td>0.962634</td>\n      <td>3990.669241</td>\n      <td>541.014538</td>\n      <td>37.273762</td>\n      <td>0.079260</td>\n      <td>0.103916</td>\n      <td>4378.581772</td>\n    </tr>\n    <tr>\n      <th>min</th>\n      <td>1.000000</td>\n      <td>8.500000e+04</td>\n      <td>0.000000</td>\n      <td>3000.000000</td>\n      <td>0.000000</td>\n      <td>0.000000</td>\n      <td>0.000000</td>\n      <td>0.000000</td>\n      <td>0.000000</td>\n      <td>1196.000000</td>\n      <td>-38.182550</td>\n      <td>144.431810</td>\n      <td>249.000000</td>\n    </tr>\n    <tr>\n      <th>25%</th>\n      <td>2.000000</td>\n      <td>6.500000e+05</td>\n      <td>6.100000</td>\n      <td>3044.000000</td>\n      <td>2.000000</td>\n      <td>1.000000</td>\n      <td>1.000000</td>\n      <td>177.000000</td>\n      <td>93.000000</td>\n      <td>1940.000000</td>\n      <td>-37.856822</td>\n      <td>144.929600</td>\n      <td>4380.000000</td>\n    </tr>\n    <tr>\n      <th>50%</th>\n      <td>3.000000</td>\n      <td>9.030000e+05</td>\n      <td>9.200000</td>\n      <td>3084.000000</td>\n      <td>3.000000</td>\n      <td>1.000000</td>\n      <td>2.000000</td>\n      <td>440.000000</td>\n      <td>126.000000</td>\n      <td>1970.000000</td>\n      <td>-37.802355</td>\n      <td>145.000100</td>\n      <td>6555.000000</td>\n    </tr>\n    <tr>\n      <th>75%</th>\n      <td>3.000000</td>\n      <td>1.330000e+06</td>\n      <td>13.000000</td>\n      <td>3148.000000</td>\n      <td>3.000000</td>\n      <td>2.000000</td>\n      <td>2.000000</td>\n      <td>651.000000</td>\n      <td>174.000000</td>\n      <td>1999.000000</td>\n      <td>-37.756400</td>\n      <td>145.058305</td>\n      <td>10331.000000</td>\n    </tr>\n    <tr>\n      <th>max</th>\n      <td>10.000000</td>\n      <td>9.000000e+06</td>\n      <td>48.100000</td>\n      <td>3977.000000</td>\n      <td>20.000000</td>\n      <td>8.000000</td>\n      <td>10.000000</td>\n      <td>433014.000000</td>\n      <td>44515.000000</td>\n      <td>2018.000000</td>\n      <td>-37.408530</td>\n      <td>145.526350</td>\n      <td>21650.000000</td>\n    </tr>\n  </tbody>\n</table>\n</div>"
     },
     "execution_count": 43,
     "metadata": {},
     "output_type": "execute_result"
    }
   ],
   "source": [
    "import pandas as pd\n",
    "\n",
    "melbourne_data = pd.read_csv('melb_data.csv')\n",
    "melbourne_data.describe()"
   ],
   "metadata": {
    "collapsed": false,
    "pycharm": {
     "name": "#%%\n"
    }
   }
  },
  {
   "cell_type": "code",
   "execution_count": 44,
   "outputs": [
    {
     "data": {
      "text/plain": "Index(['Suburb', 'Address', 'Rooms', 'Type', 'Price', 'Method', 'SellerG',\n       'Date', 'Distance', 'Postcode', 'Bedroom2', 'Bathroom', 'Car',\n       'Landsize', 'BuildingArea', 'YearBuilt', 'CouncilArea', 'Lattitude',\n       'Longtitude', 'Regionname', 'Propertycount'],\n      dtype='object')"
     },
     "execution_count": 44,
     "metadata": {},
     "output_type": "execute_result"
    }
   ],
   "source": [
    "melbourne_data.columns"
   ],
   "metadata": {
    "collapsed": false,
    "pycharm": {
     "name": "#%%\n"
    }
   }
  },
  {
   "cell_type": "markdown",
   "source": [
    "Deleting missing values from the data"
   ],
   "metadata": {
    "collapsed": false,
    "pycharm": {
     "name": "#%% md\n"
    }
   }
  },
  {
   "cell_type": "code",
   "execution_count": 45,
   "outputs": [],
   "source": [
    "melbourne_data = melbourne_data.dropna(axis=0)\n",
    "#Same as above but with inplace=True\n",
    "#melbourne_data.dropna(axis=0, inplace=True)"
   ],
   "metadata": {
    "collapsed": false,
    "pycharm": {
     "name": "#%%\n"
    }
   }
  },
  {
   "cell_type": "code",
   "execution_count": 51,
   "outputs": [],
   "source": [
    "y = melbourne_data.Price\n",
    "melbourne_features = ['Rooms', 'Bathroom', 'Landsize', 'Lattitude', 'Longtitude']\n",
    "X= melbourne_data[melbourne_features]"
   ],
   "metadata": {
    "collapsed": false,
    "pycharm": {
     "name": "#%%\n"
    }
   }
  },
  {
   "cell_type": "code",
   "execution_count": 58,
   "outputs": [],
   "source": [
    "from sklearn.model_selection import train_test_split\n",
    "\n",
    "train_X, val_X, train_y, val_y = train_test_split(X, y, random_state=1)"
   ],
   "metadata": {
    "collapsed": false,
    "pycharm": {
     "name": "#%%\n"
    }
   }
  },
  {
   "cell_type": "code",
   "execution_count": 59,
   "outputs": [
    {
     "data": {
      "text/plain": "DecisionTreeRegressor(random_state=0)"
     },
     "execution_count": 59,
     "metadata": {},
     "output_type": "execute_result"
    }
   ],
   "source": [
    "from sklearn.tree import DecisionTreeRegressor\n",
    "model = DecisionTreeRegressor(random_state=0)\n",
    "model.fit(train_X, train_y)"
   ],
   "metadata": {
    "collapsed": false,
    "pycharm": {
     "name": "#%%\n"
    }
   }
  },
  {
   "cell_type": "code",
   "execution_count": 60,
   "outputs": [
    {
     "data": {
      "text/plain": "251520.819883796"
     },
     "execution_count": 60,
     "metadata": {},
     "output_type": "execute_result"
    }
   ],
   "source": [
    "from sklearn.metrics import mean_absolute_error\n",
    "val_predictions = model.predict(val_X)\n",
    "mean_absolute_error(val_y, val_predictions)"
   ],
   "metadata": {
    "collapsed": false,
    "pycharm": {
     "name": "#%%\n"
    }
   }
  },
  {
   "cell_type": "code",
   "execution_count": 63,
   "outputs": [],
   "source": [
    "from sklearn.metrics import mean_absolute_error\n",
    "def get_mae(max_leaf_nodes, train_X, val_X, train_y, val_y):\n",
    "    model_mae = DecisionTreeRegressor(max_leaf_nodes=max_leaf_nodes, random_state=0)\n",
    "    model_mae.fit(train_X, train_y)\n",
    "    preds_val = model_mae.predict(val_X)\n",
    "    mae = mean_absolute_error(val_y, preds_val)\n",
    "    return mae"
   ],
   "metadata": {
    "collapsed": false,
    "pycharm": {
     "name": "#%%\n"
    }
   }
  },
  {
   "cell_type": "code",
   "execution_count": 64,
   "outputs": [
    {
     "name": "stdout",
     "output_type": "stream",
     "text": [
      "Max leaf nodes: 5  \t\t Mean Absolute Error:  369673\n",
      "Max leaf nodes: 50  \t\t Mean Absolute Error:  266644\n",
      "Max leaf nodes: 500  \t\t Mean Absolute Error:  243613\n",
      "Max leaf nodes: 5000  \t\t Mean Absolute Error:  256227\n"
     ]
    }
   ],
   "source": [
    "for max_leaf_nodes in [5, 50, 500, 5000]:\n",
    "    my_mae = get_mae(max_leaf_nodes, train_X, val_X, train_y, val_y)\n",
    "    print(\"Max leaf nodes: %d  \\t\\t Mean Absolute Error:  %d\" %(max_leaf_nodes, my_mae))"
   ],
   "metadata": {
    "collapsed": false,
    "pycharm": {
     "name": "#%%\n"
    }
   }
  },
  {
   "cell_type": "markdown",
   "source": [
    "In the below code, I tried to apply n_jobs parameter to the model. It dramatically reduces the time taken to run the model. -1 means all the jobs will be in parallel. In default, it is 1."
   ],
   "metadata": {
    "collapsed": false,
    "pycharm": {
     "name": "#%% md\n"
    }
   }
  },
  {
   "cell_type": "code",
   "execution_count": 70,
   "outputs": [
    {
     "name": "stdout",
     "output_type": "stream",
     "text": [
      "Time taken for training:  0.2650489807128906\n",
      "190414.59149026\n"
     ]
    }
   ],
   "source": [
    "import time\n",
    "from sklearn.ensemble import RandomForestRegressor\n",
    "forest_model = RandomForestRegressor(random_state=1,n_jobs=-1)\n",
    "start = time.time()\n",
    "forest_model.fit(train_X, train_y)\n",
    "predictions = forest_model.predict(val_X)\n",
    "end = time.time()\n",
    "print(\"Time taken for training: \", end - start)\n",
    "print(mean_absolute_error(val_y, predictions))\n",
    "# 0.9250147342681885\n",
    "# 0.2753736972808838"
   ],
   "metadata": {
    "collapsed": false,
    "pycharm": {
     "name": "#%%\n"
    }
   }
  },
  {
   "cell_type": "markdown",
   "source": [
    "Up to this point we used values without missing values. Now we will use values with missing values.\n",
    "Still we will only use numeric values."
   ],
   "metadata": {
    "collapsed": false,
    "pycharm": {
     "name": "#%% md\n"
    }
   }
  },
  {
   "cell_type": "code",
   "execution_count": 84,
   "outputs": [
    {
     "data": {
      "text/plain": "pandas.core.frame.DataFrame"
     },
     "execution_count": 84,
     "metadata": {},
     "output_type": "execute_result"
    }
   ],
   "source": [
    "data = pd.read_csv('melb_data.csv')\n",
    "y = data.Price\n",
    "# Numeric predictors. We first drop the price then drop the non-numeric columns.\n",
    "X = data.drop(['Price'], axis=1).select_dtypes(exclude=['object'])\n",
    "# Train test split of data.\n",
    "X_train, X_val, y_train, y_val = train_test_split(X, y, random_state=1, train_size=0.8, test_size=0.2)"
   ],
   "metadata": {
    "collapsed": false,
    "pycharm": {
     "name": "#%%\n"
    }
   }
  },
  {
   "cell_type": "code",
   "execution_count": 99,
   "outputs": [],
   "source": [
    "def score_dataset(X_train, y_train, X_val, y_val):\n",
    "    numeric_model = RandomForestRegressor(n_estimators=100, random_state=1, n_jobs=-1)\n",
    "    numeric_model.fit(X_train, y_train)\n",
    "    preds_val = numeric_model.predict(X_val)\n",
    "\n",
    "    return mean_absolute_error(y_val, preds_val)"
   ],
   "metadata": {
    "collapsed": false,
    "pycharm": {
     "name": "#%%\n"
    }
   }
  },
  {
   "cell_type": "code",
   "execution_count": 81,
   "outputs": [
    {
     "data": {
      "text/plain": "187082.57548478153"
     },
     "execution_count": 81,
     "metadata": {},
     "output_type": "execute_result"
    }
   ],
   "source": [
    "# Get names of columns with missing values\n",
    "cols_with_missing = [col for col in X.columns if X[col].isnull().any()]\n",
    "# Drop columns in training and validation data\n",
    "reduced_X_train = train_X.drop(cols_with_missing, axis=1)\n",
    "reduced_X_val = val_X.drop(cols_with_missing, axis=1)\n",
    "# Print score from above function\n",
    "score_dataset(reduced_X_train, y_train, reduced_X_val, val_y)"
   ],
   "metadata": {
    "collapsed": false,
    "pycharm": {
     "name": "#%%\n"
    }
   }
  },
  {
   "cell_type": "code",
   "execution_count": 89,
   "outputs": [
    {
     "name": "stdout",
     "output_type": "stream",
     "text": [
      "<class 'pandas.core.frame.DataFrame'>\n"
     ]
    },
    {
     "data": {
      "text/plain": "174917.69150711832"
     },
     "execution_count": 89,
     "metadata": {},
     "output_type": "execute_result"
    }
   ],
   "source": [
    "from sklearn.impute import SimpleImputer\n",
    "my_imputer = SimpleImputer()\n",
    "imputed_X_train = pd.DataFrame(my_imputer.fit_transform(X_train))\n",
    "imputed_X_val = pd.DataFrame(my_imputer.transform(X_val))\n",
    "\n",
    "imputed_X_train.columns = X_train.columns\n",
    "imputed_X_val.columns = X_val.columns\n",
    "\n",
    "score_dataset(imputed_X_train, y_train, imputed_X_val, val_y)\n"
   ],
   "metadata": {
    "collapsed": false,
    "pycharm": {
     "name": "#%%\n"
    }
   }
  },
  {
   "cell_type": "code",
   "execution_count": 90,
   "outputs": [
    {
     "data": {
      "text/plain": "177346.30320324007"
     },
     "execution_count": 90,
     "metadata": {},
     "output_type": "execute_result"
    }
   ],
   "source": [
    "X_train_plus = X_train.copy()\n",
    "X_val_plus = X_val.copy()\n",
    "\n",
    "# For every column with missing values, we create another columd filled with True and False. True is where the missing value is present.\n",
    "for col in cols_with_missing:\n",
    "    X_train_plus[col + '_was_missing'] = X_train_plus[col].isnull()\n",
    "    X_val_plus[col + '_was_missing'] = X_val_plus[col].isnull()\n",
    "\n",
    "my_imputer = SimpleImputer()\n",
    "imputed_X_train_plus = pd.DataFrame(my_imputer.fit_transform(X_train_plus))\n",
    "imputed_X_val_plus = pd.DataFrame(my_imputer.transform(X_val_plus))\n",
    "\n",
    "# Imputation removed column names; put them back\n",
    "imputed_X_train_plus.columns = X_train_plus.columns\n",
    "imputed_X_val_plus.columns = X_val_plus.columns\n",
    "\n",
    "score_dataset(imputed_X_train_plus, y_train, imputed_X_val_plus, val_y)"
   ],
   "metadata": {
    "collapsed": false,
    "pycharm": {
     "name": "#%%\n"
    }
   }
  },
  {
   "cell_type": "markdown",
   "source": [
    "From this point on, we will use categorical variables."
   ],
   "metadata": {
    "collapsed": false,
    "pycharm": {
     "name": "#%% md\n"
    }
   }
  },
  {
   "cell_type": "code",
   "execution_count": 94,
   "outputs": [],
   "source": [
    "y = data.Price\n",
    "X = data.drop(['Price'], axis=1)\n",
    "\n",
    "X_train_full, X_val_full, y_train, y_val = train_test_split(X, y, random_state=1, train_size=0.8, test_size=0.2)\n",
    "\n",
    "columns_with_missing_values = [col for col in X_train_full.columns if X_train_full[col].isnull().any()]\n",
    "\n",
    "X_train_full.drop(columns_with_missing_values, axis=1, inplace=True)\n",
    "X_val_full.drop(columns_with_missing_values, axis=1, inplace=True)\n",
    "\n",
    "\n",
    "low_cardinality_columns = [cname for cname in X_train_full.columns if X_train_full[cname].nunique() < 10 and X_train_full[cname].dtype == \"object\"]\n",
    "\n",
    "numerical_columns = [cname for cname in X_train_full.columns if X_train_full[cname].dtype in ['int64', 'float64']]\n",
    "\n",
    "predictor_columns = low_cardinality_columns + numerical_columns\n",
    "X_train = X_train_full[predictor_columns].copy()\n",
    "X_val = X_val_full[predictor_columns].copy()\n",
    "\n",
    "# S refers to a series of True/False values of wheter the value is categorical(True) or not(False).\n",
    "s = (X_train.dtypes == 'object')\n",
    "#   Returns a list of columns that are categorical. s== True\n",
    "object_cols = list(s[s].index)\n",
    "#object_cols = X_train.columns[s].tolist()\n"
   ],
   "metadata": {
    "collapsed": false,
    "pycharm": {
     "name": "#%%\n"
    }
   }
  },
  {
   "cell_type": "code",
   "execution_count": 100,
   "outputs": [
    {
     "data": {
      "text/plain": "176556.1092096132"
     },
     "execution_count": 100,
     "metadata": {},
     "output_type": "execute_result"
    }
   ],
   "source": [
    "drop_X_train = X_train.select_dtypes(exclude=['object'])\n",
    "drop_X_val = X_val.select_dtypes(exclude=['object'])\n",
    "score_dataset(drop_X_train, y_train, drop_X_val, y_val)"
   ],
   "metadata": {
    "collapsed": false,
    "pycharm": {
     "name": "#%%\n"
    }
   }
  },
  {
   "cell_type": "code",
   "execution_count": 104,
   "outputs": [
    {
     "name": "stdout",
     "output_type": "stream",
     "text": [
      "165018.58378760781\n"
     ]
    }
   ],
   "source": [
    "from sklearn.preprocessing import OrdinalEncoder\n",
    "\n",
    "label_X_train = X_train.copy()\n",
    "labeled_X_val = X_val.copy()\n",
    "\n",
    "ordinal_encoder = OrdinalEncoder()\n",
    "label_X_train[object_cols] = ordinal_encoder.fit_transform(X_train[object_cols])\n",
    "labeled_X_val[object_cols] = ordinal_encoder.transform(X_val[object_cols])\n",
    "\n",
    "print(score_dataset(label_X_train, y_train, labeled_X_val, y_val))\n"
   ],
   "metadata": {
    "collapsed": false,
    "pycharm": {
     "name": "#%%\n"
    }
   }
  },
  {
   "cell_type": "code",
   "execution_count": 106,
   "outputs": [
    {
     "data": {
      "text/plain": "['Type', 'Method', 'Regionname']"
     },
     "execution_count": 106,
     "metadata": {},
     "output_type": "execute_result"
    }
   ],
   "source": [
    "object_cols"
   ],
   "metadata": {
    "collapsed": false,
    "pycharm": {
     "name": "#%%\n"
    }
   }
  },
  {
   "cell_type": "code",
   "execution_count": 127,
   "outputs": [
    {
     "name": "stdout",
     "output_type": "stream",
     "text": [
      "[array(['h', 't', 'u'], dtype=object), array(['PI', 'S', 'SA', 'SP', 'VB'], dtype=object), array(['Eastern Metropolitan', 'Eastern Victoria',\n",
      "       'Northern Metropolitan', 'Northern Victoria',\n",
      "       'South-Eastern Metropolitan', 'Southern Metropolitan',\n",
      "       'Western Metropolitan', 'Western Victoria'], dtype=object)]\n"
     ]
    },
    {
     "name": "stderr",
     "output_type": "stream",
     "text": [
      "/Users/aliakkaya/PycharmProjects/PersonalArea/venv/lib/python3.9/site-packages/sklearn/utils/validation.py:1688: FutureWarning: Feature names only support names that are all strings. Got feature names with dtypes: ['int', 'str']. An error will be raised in 1.2.\n",
      "  warnings.warn(\n",
      "/Users/aliakkaya/PycharmProjects/PersonalArea/venv/lib/python3.9/site-packages/sklearn/utils/validation.py:1688: FutureWarning: Feature names only support names that are all strings. Got feature names with dtypes: ['int', 'str']. An error will be raised in 1.2.\n",
      "  warnings.warn(\n"
     ]
    },
    {
     "data": {
      "text/plain": "162363.08246142787"
     },
     "execution_count": 127,
     "metadata": {},
     "output_type": "execute_result"
    }
   ],
   "source": [
    "from sklearn.preprocessing import OneHotEncoder\n",
    "\n",
    "OH_encoder = OneHotEncoder(sparse=False, handle_unknown='ignore')\n",
    "OH_cols_train = pd.DataFrame(OH_encoder.fit_transform(X_train[object_cols]))\n",
    "OH_cols_val = pd.DataFrame(OH_encoder.transform(X_val[object_cols]))\n",
    "print(OH_encoder.categories_)\n",
    "OH_cols_train.index = X_train.index\n",
    "OH_cols_val.index = X_val.index\n",
    "\n",
    "num_X_train = X_train.drop(object_cols, axis=1)\n",
    "num_X_valid = X_val.drop(object_cols, axis=1)\n",
    "\n",
    "OH_X_train = pd.concat([num_X_train, OH_cols_train], axis=1)\n",
    "OH_X_valid = pd.concat([num_X_valid, OH_cols_val], axis=1)\n",
    "\n",
    "score_dataset(OH_X_train, y_train, OH_X_valid, y_val)"
   ],
   "metadata": {
    "collapsed": false,
    "pycharm": {
     "name": "#%%\n"
    }
   }
  },
  {
   "cell_type": "markdown",
   "source": [
    "Until this point in categorical variable both validation and training sets have the same number of unique values for each categorical variable. Now we will learn how to handle if validation data has different values for the same categorical variable."
   ],
   "metadata": {
    "collapsed": false,
    "pycharm": {
     "name": "#%% md\n"
    }
   }
  },
  {
   "cell_type": "code",
   "execution_count": 125,
   "outputs": [
    {
     "data": {
      "text/plain": "       Rooms  Distance  Postcode  Bedroom2  Bathroom  Landsize  Lattitude  \\\n1041       3      11.2    3186.0       3.0       1.0     366.0  -37.90380   \n1989       3       7.8    3058.0       3.0       1.0     238.0  -37.75390   \n10157      3       5.2    3056.0       3.0       1.0     439.0  -37.77047   \n1711       2      11.4    3163.0       2.0       1.0       0.0  -37.88630   \n11565      4      11.0    3018.0       4.0       2.0     615.0  -37.87057   \n...      ...       ...       ...       ...       ...       ...        ...   \n905        3      13.9    3165.0       3.0       1.0     686.0  -37.91130   \n5192       2      11.2    3073.0       2.0       1.0     452.0  -37.72710   \n12172      3      31.7    3429.0       3.0       2.0     563.0  -37.57499   \n235        5       6.3    3143.0       8.0       2.0     693.0  -37.86380   \n13349      4       9.7    3104.0       4.0       2.0     868.0  -37.80217   \n\n       Longtitude  Propertycount    0  ...    6    7    8    9   10   11   12  \\\n1041    145.00010        10579.0  1.0  ...  0.0  0.0  0.0  0.0  0.0  0.0  0.0   \n1989    144.96120        11204.0  1.0  ...  0.0  0.0  0.0  0.0  1.0  0.0  0.0   \n10157   144.97005        11918.0  1.0  ...  0.0  0.0  0.0  0.0  1.0  0.0  0.0   \n1711    145.06600         7822.0  0.0  ...  0.0  0.0  0.0  0.0  0.0  0.0  0.0   \n11565   144.83623         5301.0  1.0  ...  0.0  0.0  0.0  0.0  0.0  0.0  0.0   \n...           ...            ...  ...  ...  ...  ...  ...  ...  ...  ...  ...   \n905     145.07650        10969.0  1.0  ...  0.0  0.0  0.0  0.0  0.0  0.0  0.0   \n5192    145.00090        21650.0  1.0  ...  0.0  0.0  0.0  0.0  1.0  0.0  0.0   \n12172   144.75329        14092.0  1.0  ...  0.0  0.0  0.0  0.0  0.0  0.0  0.0   \n235     145.02290         4836.0  1.0  ...  0.0  0.0  0.0  0.0  0.0  0.0  0.0   \n13349   145.10183         7809.0  1.0  ...  0.0  0.0  0.0  0.0  0.0  0.0  0.0   \n\n        13   14   15  \n1041   1.0  0.0  0.0  \n1989   0.0  0.0  0.0  \n10157  0.0  0.0  0.0  \n1711   1.0  0.0  0.0  \n11565  0.0  1.0  0.0  \n...    ...  ...  ...  \n905    1.0  0.0  0.0  \n5192   0.0  0.0  0.0  \n12172  0.0  1.0  0.0  \n235    1.0  0.0  0.0  \n13349  1.0  0.0  0.0  \n\n[10864 rows x 25 columns]",
      "text/html": "<div>\n<style scoped>\n    .dataframe tbody tr th:only-of-type {\n        vertical-align: middle;\n    }\n\n    .dataframe tbody tr th {\n        vertical-align: top;\n    }\n\n    .dataframe thead th {\n        text-align: right;\n    }\n</style>\n<table border=\"1\" class=\"dataframe\">\n  <thead>\n    <tr style=\"text-align: right;\">\n      <th></th>\n      <th>Rooms</th>\n      <th>Distance</th>\n      <th>Postcode</th>\n      <th>Bedroom2</th>\n      <th>Bathroom</th>\n      <th>Landsize</th>\n      <th>Lattitude</th>\n      <th>Longtitude</th>\n      <th>Propertycount</th>\n      <th>0</th>\n      <th>...</th>\n      <th>6</th>\n      <th>7</th>\n      <th>8</th>\n      <th>9</th>\n      <th>10</th>\n      <th>11</th>\n      <th>12</th>\n      <th>13</th>\n      <th>14</th>\n      <th>15</th>\n    </tr>\n  </thead>\n  <tbody>\n    <tr>\n      <th>1041</th>\n      <td>3</td>\n      <td>11.2</td>\n      <td>3186.0</td>\n      <td>3.0</td>\n      <td>1.0</td>\n      <td>366.0</td>\n      <td>-37.90380</td>\n      <td>145.00010</td>\n      <td>10579.0</td>\n      <td>1.0</td>\n      <td>...</td>\n      <td>0.0</td>\n      <td>0.0</td>\n      <td>0.0</td>\n      <td>0.0</td>\n      <td>0.0</td>\n      <td>0.0</td>\n      <td>0.0</td>\n      <td>1.0</td>\n      <td>0.0</td>\n      <td>0.0</td>\n    </tr>\n    <tr>\n      <th>1989</th>\n      <td>3</td>\n      <td>7.8</td>\n      <td>3058.0</td>\n      <td>3.0</td>\n      <td>1.0</td>\n      <td>238.0</td>\n      <td>-37.75390</td>\n      <td>144.96120</td>\n      <td>11204.0</td>\n      <td>1.0</td>\n      <td>...</td>\n      <td>0.0</td>\n      <td>0.0</td>\n      <td>0.0</td>\n      <td>0.0</td>\n      <td>1.0</td>\n      <td>0.0</td>\n      <td>0.0</td>\n      <td>0.0</td>\n      <td>0.0</td>\n      <td>0.0</td>\n    </tr>\n    <tr>\n      <th>10157</th>\n      <td>3</td>\n      <td>5.2</td>\n      <td>3056.0</td>\n      <td>3.0</td>\n      <td>1.0</td>\n      <td>439.0</td>\n      <td>-37.77047</td>\n      <td>144.97005</td>\n      <td>11918.0</td>\n      <td>1.0</td>\n      <td>...</td>\n      <td>0.0</td>\n      <td>0.0</td>\n      <td>0.0</td>\n      <td>0.0</td>\n      <td>1.0</td>\n      <td>0.0</td>\n      <td>0.0</td>\n      <td>0.0</td>\n      <td>0.0</td>\n      <td>0.0</td>\n    </tr>\n    <tr>\n      <th>1711</th>\n      <td>2</td>\n      <td>11.4</td>\n      <td>3163.0</td>\n      <td>2.0</td>\n      <td>1.0</td>\n      <td>0.0</td>\n      <td>-37.88630</td>\n      <td>145.06600</td>\n      <td>7822.0</td>\n      <td>0.0</td>\n      <td>...</td>\n      <td>0.0</td>\n      <td>0.0</td>\n      <td>0.0</td>\n      <td>0.0</td>\n      <td>0.0</td>\n      <td>0.0</td>\n      <td>0.0</td>\n      <td>1.0</td>\n      <td>0.0</td>\n      <td>0.0</td>\n    </tr>\n    <tr>\n      <th>11565</th>\n      <td>4</td>\n      <td>11.0</td>\n      <td>3018.0</td>\n      <td>4.0</td>\n      <td>2.0</td>\n      <td>615.0</td>\n      <td>-37.87057</td>\n      <td>144.83623</td>\n      <td>5301.0</td>\n      <td>1.0</td>\n      <td>...</td>\n      <td>0.0</td>\n      <td>0.0</td>\n      <td>0.0</td>\n      <td>0.0</td>\n      <td>0.0</td>\n      <td>0.0</td>\n      <td>0.0</td>\n      <td>0.0</td>\n      <td>1.0</td>\n      <td>0.0</td>\n    </tr>\n    <tr>\n      <th>...</th>\n      <td>...</td>\n      <td>...</td>\n      <td>...</td>\n      <td>...</td>\n      <td>...</td>\n      <td>...</td>\n      <td>...</td>\n      <td>...</td>\n      <td>...</td>\n      <td>...</td>\n      <td>...</td>\n      <td>...</td>\n      <td>...</td>\n      <td>...</td>\n      <td>...</td>\n      <td>...</td>\n      <td>...</td>\n      <td>...</td>\n      <td>...</td>\n      <td>...</td>\n      <td>...</td>\n    </tr>\n    <tr>\n      <th>905</th>\n      <td>3</td>\n      <td>13.9</td>\n      <td>3165.0</td>\n      <td>3.0</td>\n      <td>1.0</td>\n      <td>686.0</td>\n      <td>-37.91130</td>\n      <td>145.07650</td>\n      <td>10969.0</td>\n      <td>1.0</td>\n      <td>...</td>\n      <td>0.0</td>\n      <td>0.0</td>\n      <td>0.0</td>\n      <td>0.0</td>\n      <td>0.0</td>\n      <td>0.0</td>\n      <td>0.0</td>\n      <td>1.0</td>\n      <td>0.0</td>\n      <td>0.0</td>\n    </tr>\n    <tr>\n      <th>5192</th>\n      <td>2</td>\n      <td>11.2</td>\n      <td>3073.0</td>\n      <td>2.0</td>\n      <td>1.0</td>\n      <td>452.0</td>\n      <td>-37.72710</td>\n      <td>145.00090</td>\n      <td>21650.0</td>\n      <td>1.0</td>\n      <td>...</td>\n      <td>0.0</td>\n      <td>0.0</td>\n      <td>0.0</td>\n      <td>0.0</td>\n      <td>1.0</td>\n      <td>0.0</td>\n      <td>0.0</td>\n      <td>0.0</td>\n      <td>0.0</td>\n      <td>0.0</td>\n    </tr>\n    <tr>\n      <th>12172</th>\n      <td>3</td>\n      <td>31.7</td>\n      <td>3429.0</td>\n      <td>3.0</td>\n      <td>2.0</td>\n      <td>563.0</td>\n      <td>-37.57499</td>\n      <td>144.75329</td>\n      <td>14092.0</td>\n      <td>1.0</td>\n      <td>...</td>\n      <td>0.0</td>\n      <td>0.0</td>\n      <td>0.0</td>\n      <td>0.0</td>\n      <td>0.0</td>\n      <td>0.0</td>\n      <td>0.0</td>\n      <td>0.0</td>\n      <td>1.0</td>\n      <td>0.0</td>\n    </tr>\n    <tr>\n      <th>235</th>\n      <td>5</td>\n      <td>6.3</td>\n      <td>3143.0</td>\n      <td>8.0</td>\n      <td>2.0</td>\n      <td>693.0</td>\n      <td>-37.86380</td>\n      <td>145.02290</td>\n      <td>4836.0</td>\n      <td>1.0</td>\n      <td>...</td>\n      <td>0.0</td>\n      <td>0.0</td>\n      <td>0.0</td>\n      <td>0.0</td>\n      <td>0.0</td>\n      <td>0.0</td>\n      <td>0.0</td>\n      <td>1.0</td>\n      <td>0.0</td>\n      <td>0.0</td>\n    </tr>\n    <tr>\n      <th>13349</th>\n      <td>4</td>\n      <td>9.7</td>\n      <td>3104.0</td>\n      <td>4.0</td>\n      <td>2.0</td>\n      <td>868.0</td>\n      <td>-37.80217</td>\n      <td>145.10183</td>\n      <td>7809.0</td>\n      <td>1.0</td>\n      <td>...</td>\n      <td>0.0</td>\n      <td>0.0</td>\n      <td>0.0</td>\n      <td>0.0</td>\n      <td>0.0</td>\n      <td>0.0</td>\n      <td>0.0</td>\n      <td>1.0</td>\n      <td>0.0</td>\n      <td>0.0</td>\n    </tr>\n  </tbody>\n</table>\n<p>10864 rows × 25 columns</p>\n</div>"
     },
     "execution_count": 125,
     "metadata": {},
     "output_type": "execute_result"
    }
   ],
   "source": [
    "object_cols = [col for col in X_train.columns if X_train[col].dtype == \"object\"]\n",
    "\n",
    "good_label_cols = [col for col in object_cols if\n",
    "                   set(X_val[col]).issubset(set(X_train[col]))]\n",
    "bad_label_cols = list(set(object_cols)-set(good_label_cols))\n",
    "\n",
    "label_X_train_2 = X_train.drop(bad_label_cols, axis=1)\n",
    "labeled_X_val_2 = X_val.drop(bad_label_cols, axis=1)"
   ],
   "metadata": {
    "collapsed": false,
    "pycharm": {
     "name": "#%%\n"
    }
   }
  },
  {
   "cell_type": "code",
   "execution_count": 134,
   "outputs": [
    {
     "data": {
      "text/plain": "'acbb abccello'"
     },
     "execution_count": 134,
     "metadata": {},
     "output_type": "execute_result"
    }
   ],
   "source": [
    "#Create algorithm for Twitter\n"
   ],
   "metadata": {
    "collapsed": false,
    "pycharm": {
     "name": "#%%\n"
    }
   }
  }
 ],
 "metadata": {
  "kernelspec": {
   "display_name": "Python 3",
   "language": "python",
   "name": "python3"
  },
  "language_info": {
   "codemirror_mode": {
    "name": "ipython",
    "version": 2
   },
   "file_extension": ".py",
   "mimetype": "text/x-python",
   "name": "python",
   "nbconvert_exporter": "python",
   "pygments_lexer": "ipython2",
   "version": "2.7.6"
  }
 },
 "nbformat": 4,
 "nbformat_minor": 0
}