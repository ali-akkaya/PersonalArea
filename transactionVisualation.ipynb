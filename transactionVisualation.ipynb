{
 "cells": [
  {
   "cell_type": "code",
   "execution_count": 32,
   "outputs": [
    {
     "name": "stdout",
     "output_type": "stream",
     "text": [
      "Index(['Txhash', 'Blockno', 'UnixTimestamp', 'DateTime', 'From', 'To',\n",
      "       'Quantity', 'Method'],\n",
      "      dtype='object')\n"
     ]
    }
   ],
   "source": [
    "import pandas as pd\n",
    "import self as self\n",
    "\n",
    "data = pd.read_csv('export-token-0x205afd08cefe438377a0abc5a20cb4462e1a8c5c.csv')\n",
    "print(data.columns)"
   ],
   "metadata": {
    "collapsed": false,
    "pycharm": {
     "name": "#%%\n"
    }
   }
  },
  {
   "cell_type": "code",
   "execution_count": 33,
   "outputs": [
    {
     "data": {
      "text/plain": "392"
     },
     "execution_count": 33,
     "metadata": {},
     "output_type": "execute_result"
    }
   ],
   "source": [
    "data.size"
   ],
   "metadata": {
    "collapsed": false,
    "pycharm": {
     "name": "#%%\n"
    }
   }
  },
  {
   "cell_type": "code",
   "execution_count": 86,
   "outputs": [
    {
     "name": "stderr",
     "output_type": "stream",
     "text": [
      "/var/folders/2c/tpsqdjds6wn2vsc099c22z5w0000gn/T/ipykernel_4761/4266985974.py:2: SettingWithCopyWarning: \n",
      "A value is trying to be set on a copy of a slice from a DataFrame.\n",
      "Try using .loc[row_indexer,col_indexer] = value instead\n",
      "\n",
      "See the caveats in the documentation: https://pandas.pydata.org/pandas-docs/stable/user_guide/indexing.html#returning-a-view-versus-a-copy\n",
      "  df.Quantity= df.Quantity.str.replace(',', \"\", ).astype(float)\n"
     ]
    },
    {
     "data": {
      "text/plain": "                                         From  \\\n0  0x14aaee642a3db0f7ae84f74994de9ee20980ff6a   \n1  0x18273dda6fa28eb8a7265762828845cb5c4469c8   \n2  0x1ce7287f50742685a69d0f0b66707247429c1212   \n3  0x26b9a8beb8f15a53e4a7eccfd098e367eff7dbb9   \n4  0x34ac1c12bc09b6f2532800446f404c91bae29d48   \n\n                                           To      Quantity  \n0  0x124d9bf2fecbc16b54ec4accdb14d44c2144f012  4.690976e+08  \n1  0x124d9bf2fecbc16b54ec4accdb14d44c2144f012  2.092827e+09  \n2  0x124d9bf2fecbc16b54ec4accdb14d44c2144f012  2.259092e+09  \n3  0x124d9bf2fecbc16b54ec4accdb14d44c2144f012  6.579923e+09  \n4  0x4982085c9e2f89f2ecb8131eca71afad896e89cb  5.250300e+09  ",
      "text/html": "<div>\n<style scoped>\n    .dataframe tbody tr th:only-of-type {\n        vertical-align: middle;\n    }\n\n    .dataframe tbody tr th {\n        vertical-align: top;\n    }\n\n    .dataframe thead th {\n        text-align: right;\n    }\n</style>\n<table border=\"1\" class=\"dataframe\">\n  <thead>\n    <tr style=\"text-align: right;\">\n      <th></th>\n      <th>From</th>\n      <th>To</th>\n      <th>Quantity</th>\n    </tr>\n  </thead>\n  <tbody>\n    <tr>\n      <th>0</th>\n      <td>0x14aaee642a3db0f7ae84f74994de9ee20980ff6a</td>\n      <td>0x124d9bf2fecbc16b54ec4accdb14d44c2144f012</td>\n      <td>4.690976e+08</td>\n    </tr>\n    <tr>\n      <th>1</th>\n      <td>0x18273dda6fa28eb8a7265762828845cb5c4469c8</td>\n      <td>0x124d9bf2fecbc16b54ec4accdb14d44c2144f012</td>\n      <td>2.092827e+09</td>\n    </tr>\n    <tr>\n      <th>2</th>\n      <td>0x1ce7287f50742685a69d0f0b66707247429c1212</td>\n      <td>0x124d9bf2fecbc16b54ec4accdb14d44c2144f012</td>\n      <td>2.259092e+09</td>\n    </tr>\n    <tr>\n      <th>3</th>\n      <td>0x26b9a8beb8f15a53e4a7eccfd098e367eff7dbb9</td>\n      <td>0x124d9bf2fecbc16b54ec4accdb14d44c2144f012</td>\n      <td>6.579923e+09</td>\n    </tr>\n    <tr>\n      <th>4</th>\n      <td>0x34ac1c12bc09b6f2532800446f404c91bae29d48</td>\n      <td>0x4982085c9e2f89f2ecb8131eca71afad896e89cb</td>\n      <td>5.250300e+09</td>\n    </tr>\n  </tbody>\n</table>\n</div>"
     },
     "execution_count": 86,
     "metadata": {},
     "output_type": "execute_result"
    }
   ],
   "source": [
    "df =data[['From', 'To', 'Quantity']]\n",
    "df.Quantity= df.Quantity.str.replace(',', \"\", ).astype(float)\n",
    "df_groupped =df.groupby(['From', 'To']).sum().reset_index()\n",
    "df_groupped.head(5)"
   ],
   "metadata": {
    "collapsed": false,
    "pycharm": {
     "name": "#%%\n"
    }
   }
  },
  {
   "cell_type": "code",
   "execution_count": null,
   "outputs": [],
   "source": [],
   "metadata": {
    "collapsed": false,
    "pycharm": {
     "name": "#%%\n"
    }
   }
  },
  {
   "cell_type": "code",
   "execution_count": 7,
   "outputs": [
    {
     "name": "stderr",
     "output_type": "stream",
     "text": [
      "/var/folders/2c/tpsqdjds6wn2vsc099c22z5w0000gn/T/ipykernel_4761/2345123601.py:2: SettingWithCopyWarning: \n",
      "A value is trying to be set on a copy of a slice from a DataFrame.\n",
      "Try using .loc[row_indexer,col_indexer] = value instead\n",
      "\n",
      "See the caveats in the documentation: https://pandas.pydata.org/pandas-docs/stable/user_guide/indexing.html#returning-a-view-versus-a-copy\n",
      "  edges['UniqueId'] = edges['From'] + '_' + edges['To']\n"
     ]
    }
   ],
   "source": [
    "edges = data[['From', 'To', 'Quantity']]\n",
    "edges['UniqueId'] = edges['From'] + '_' + edges['To']\n"
   ],
   "metadata": {
    "collapsed": false,
    "pycharm": {
     "name": "#%%\n"
    }
   }
  },
  {
   "cell_type": "code",
   "execution_count": 8,
   "outputs": [
    {
     "data": {
      "text/plain": "array(['0x4982085c9e2f89f2ecb8131eca71afad896e89cb',\n       '0x619b4779482ebbf78bab00672ff7c6493f7f5a46',\n       '0x3b3dc5d42db91ee379a1d42911564b60c738e3b9',\n       '0x971412625c134ee530258e9f7d5df7306e76e25d',\n       '0x34ac1c12bc09b6f2532800446f404c91bae29d48',\n       '0xcfc1df78e68e47cd2b2abe94fc6af9adb7e4c3ed',\n       '0x7947e3194290195aeb32c4fbe0cb4eaea305aa71',\n       '0x14aaee642a3db0f7ae84f74994de9ee20980ff6a',\n       '0x26b9a8beb8f15a53e4a7eccfd098e367eff7dbb9',\n       '0xab4ad0cceab0323e01f9115d2859396cfe33b11e',\n       '0x18273dda6fa28eb8a7265762828845cb5c4469c8',\n       '0xe6a484bbaa7d6d880b7dda58ae0cc2b50b149cd9',\n       '0xb500db9df160204769b79c41a423dc872e41e9de',\n       '0x5e5699172f8cd8a3c089f78926b93606733fa8f6',\n       '0x1ce7287f50742685a69d0f0b66707247429c1212',\n       '0x482a1efc09e4c2eb8d33b850a365c37b6043357f',\n       '0x3d24da45253fee775c065d0bb590948817f16819'], dtype=object)"
     },
     "execution_count": 8,
     "metadata": {},
     "output_type": "execute_result"
    }
   ],
   "source": [
    "class Graph:\n",
    "    def __init__(self, directed =True):\n",
    "        self.m_directed =directed\n",
    "        self.m_list_of_edges = []\n",
    "\n",
    "    def add_edge(self,id, node1, node2, weight,lo =0, hi =None):\n",
    "        if len(self.m_list_of_edges) == 0:\n",
    "            self.m_list_of_edges.append([id, node1, node2, weight])\n",
    "        else:\n",
    "            if lo < 0:\n",
    "                raise ValueError('lo must be non-negative')\n",
    "            if hi is None:\n",
    "                hi = len(self.m_list_of_edges)\n",
    "\n",
    "            while lo < hi:\n",
    "                mid = (lo+hi)//2\n",
    "                if id < a[mid]:\n",
    "                    hi = mid\n",
    "                else:\n",
    "                    lo = mid+1\n",
    "            self.m_list_of_edges.insert(lo, [id, node1, node2, weight])\n",
    "\n",
    "\n",
    "        self.m_list_of_edges.append([id, node1, node2, weight])\n",
    "\n",
    "        if not self.m_directed:\n",
    "            self.m_list_of_edges.append([id, node2, node1, weight])\n",
    "\n",
    "    def print_graph(self):\n",
    "        for edge in self.m_list_of_edges:\n",
    "            print(edge)\n",
    "\n",
    "\n",
    "\n"
   ],
   "metadata": {
    "collapsed": false,
    "pycharm": {
     "name": "#%%\n"
    }
   }
  },
  {
   "cell_type": "code",
   "execution_count": 18,
   "outputs": [
    {
     "data": {
      "text/plain": "  From To Quantity\n0    a  b        1\n1    a  c        2\n2    b  c        3\n3    b  c        4\n4    c  a        5",
      "text/html": "<div>\n<style scoped>\n    .dataframe tbody tr th:only-of-type {\n        vertical-align: middle;\n    }\n\n    .dataframe tbody tr th {\n        vertical-align: top;\n    }\n\n    .dataframe thead th {\n        text-align: right;\n    }\n</style>\n<table border=\"1\" class=\"dataframe\">\n  <thead>\n    <tr style=\"text-align: right;\">\n      <th></th>\n      <th>From</th>\n      <th>To</th>\n      <th>Quantity</th>\n    </tr>\n  </thead>\n  <tbody>\n    <tr>\n      <th>0</th>\n      <td>a</td>\n      <td>b</td>\n      <td>1</td>\n    </tr>\n    <tr>\n      <th>1</th>\n      <td>a</td>\n      <td>c</td>\n      <td>2</td>\n    </tr>\n    <tr>\n      <th>2</th>\n      <td>b</td>\n      <td>c</td>\n      <td>3</td>\n    </tr>\n    <tr>\n      <th>3</th>\n      <td>b</td>\n      <td>c</td>\n      <td>4</td>\n    </tr>\n    <tr>\n      <th>4</th>\n      <td>c</td>\n      <td>a</td>\n      <td>5</td>\n    </tr>\n  </tbody>\n</table>\n</div>"
     },
     "execution_count": 18,
     "metadata": {},
     "output_type": "execute_result"
    }
   ],
   "source": [
    "deneme = pd.DataFrame([['a','a','b','b','c'],['b','c','c','c','a'],[1,2,3,4,5]]).T\n",
    "deneme.columns = ['From', 'To', 'Quantity']\n",
    "deneme"
   ],
   "metadata": {
    "collapsed": false,
    "pycharm": {
     "name": "#%%\n"
    }
   }
  },
  {
   "cell_type": "code",
   "execution_count": 38,
   "outputs": [],
   "source": [
    "deneme_group = deneme.groupby(['From', 'To']).sum().reset_index()"
   ],
   "metadata": {
    "collapsed": false,
    "pycharm": {
     "name": "#%%\n"
    }
   }
  },
  {
   "cell_type": "code",
   "execution_count": 91,
   "outputs": [],
   "source": [
    "def show_wgraph():\n",
    "    plt.figure()\n",
    "    pos = nx.spring_layout(G)\n",
    "    weight_labels = nx.get_edge_attributes(G,'weight')\n",
    "    nx.draw(G,pos,font_color = 'white', node_shape = 's', with_labels = True,)\n",
    "    output = nx.draw_networkx_edge_labels(G,pos,edge_labels=weight_labels)\n",
    "    plt.savefig('weighted_graph_4.png',format='svg', dpi=1200)\n",
    "\n"
   ],
   "metadata": {
    "collapsed": false,
    "pycharm": {
     "name": "#%%\n"
    }
   }
  },
  {
   "cell_type": "code",
   "execution_count": 53,
   "outputs": [
    {
     "name": "stdout",
     "output_type": "stream",
     "text": [
      "a\n",
      "a\n",
      "b\n",
      "c\n"
     ]
    }
   ],
   "source": [
    "\n"
   ],
   "metadata": {
    "collapsed": false,
    "pycharm": {
     "name": "#%%\n"
    }
   }
  },
  {
   "cell_type": "code",
   "execution_count": 63,
   "outputs": [
    {
     "data": {
      "text/plain": "                                          From  \\\n30  0x4982085c9e2f89f2ecb8131eca71afad896e89cb   \n35  0x4982085c9e2f89f2ecb8131eca71afad896e89cb   \n\n                                            To          Quantity  \n30  0x1ce7287f50742685a69d0f0b66707247429c1212    828,470,321.84  \n35  0x1ce7287f50742685a69d0f0b66707247429c1212  1,430,621,284.89  ",
      "text/html": "<div>\n<style scoped>\n    .dataframe tbody tr th:only-of-type {\n        vertical-align: middle;\n    }\n\n    .dataframe tbody tr th {\n        vertical-align: top;\n    }\n\n    .dataframe thead th {\n        text-align: right;\n    }\n</style>\n<table border=\"1\" class=\"dataframe\">\n  <thead>\n    <tr style=\"text-align: right;\">\n      <th></th>\n      <th>From</th>\n      <th>To</th>\n      <th>Quantity</th>\n    </tr>\n  </thead>\n  <tbody>\n    <tr>\n      <th>30</th>\n      <td>0x4982085c9e2f89f2ecb8131eca71afad896e89cb</td>\n      <td>0x1ce7287f50742685a69d0f0b66707247429c1212</td>\n      <td>828,470,321.84</td>\n    </tr>\n    <tr>\n      <th>35</th>\n      <td>0x4982085c9e2f89f2ecb8131eca71afad896e89cb</td>\n      <td>0x1ce7287f50742685a69d0f0b66707247429c1212</td>\n      <td>1,430,621,284.89</td>\n    </tr>\n  </tbody>\n</table>\n</div>"
     },
     "execution_count": 63,
     "metadata": {},
     "output_type": "execute_result"
    }
   ],
   "source": [
    "df.loc[(df['From'] == '0x4982085c9e2f89f2ecb8131eca71afad896e89cb') & (df['To'] == '0x1ce7287f50742685a69d0f0b66707247429c1212')]"
   ],
   "metadata": {
    "collapsed": false,
    "pycharm": {
     "name": "#%%\n"
    }
   }
  },
  {
   "cell_type": "code",
   "execution_count": 59,
   "outputs": [
    {
     "data": {
      "text/plain": "                                          From  \\\n0   0x14aaee642a3db0f7ae84f74994de9ee20980ff6a   \n1   0x18273dda6fa28eb8a7265762828845cb5c4469c8   \n2   0x1ce7287f50742685a69d0f0b66707247429c1212   \n3   0x26b9a8beb8f15a53e4a7eccfd098e367eff7dbb9   \n4   0x34ac1c12bc09b6f2532800446f404c91bae29d48   \n5   0x3b3dc5d42db91ee379a1d42911564b60c738e3b9   \n6   0x3d24da45253fee775c065d0bb590948817f16819   \n7   0x482a1efc09e4c2eb8d33b850a365c37b6043357f   \n8   0x4982085c9e2f89f2ecb8131eca71afad896e89cb   \n9   0x4982085c9e2f89f2ecb8131eca71afad896e89cb   \n10  0x4982085c9e2f89f2ecb8131eca71afad896e89cb   \n11  0x4982085c9e2f89f2ecb8131eca71afad896e89cb   \n12  0x4982085c9e2f89f2ecb8131eca71afad896e89cb   \n13  0x4982085c9e2f89f2ecb8131eca71afad896e89cb   \n14  0x4982085c9e2f89f2ecb8131eca71afad896e89cb   \n15  0x4982085c9e2f89f2ecb8131eca71afad896e89cb   \n16  0x4982085c9e2f89f2ecb8131eca71afad896e89cb   \n17  0x4982085c9e2f89f2ecb8131eca71afad896e89cb   \n18  0x4982085c9e2f89f2ecb8131eca71afad896e89cb   \n19  0x5e5699172f8cd8a3c089f78926b93606733fa8f6   \n20  0x619b4779482ebbf78bab00672ff7c6493f7f5a46   \n21  0x7947e3194290195aeb32c4fbe0cb4eaea305aa71   \n22  0x971412625c134ee530258e9f7d5df7306e76e25d   \n23  0xab4ad0cceab0323e01f9115d2859396cfe33b11e   \n24  0xb500db9df160204769b79c41a423dc872e41e9de   \n25  0xb500db9df160204769b79c41a423dc872e41e9de   \n26  0xcfc1df78e68e47cd2b2abe94fc6af9adb7e4c3ed   \n27  0xe6a484bbaa7d6d880b7dda58ae0cc2b50b149cd9   \n\n                                            To  \\\n0   0x124d9bf2fecbc16b54ec4accdb14d44c2144f012   \n1   0x124d9bf2fecbc16b54ec4accdb14d44c2144f012   \n2   0x124d9bf2fecbc16b54ec4accdb14d44c2144f012   \n3   0x124d9bf2fecbc16b54ec4accdb14d44c2144f012   \n4   0x4982085c9e2f89f2ecb8131eca71afad896e89cb   \n5   0xa3ac0659fe5286c30bfb52caabe2ea332a1354d3   \n6   0x124d9bf2fecbc16b54ec4accdb14d44c2144f012   \n7   0x75987b9edb5463ce1a3a857e11671424600927a4   \n8   0x14aaee642a3db0f7ae84f74994de9ee20980ff6a   \n9   0x18273dda6fa28eb8a7265762828845cb5c4469c8   \n10  0x1ce7287f50742685a69d0f0b66707247429c1212   \n11  0x26b9a8beb8f15a53e4a7eccfd098e367eff7dbb9   \n12  0x482a1efc09e4c2eb8d33b850a365c37b6043357f   \n13  0x619b4779482ebbf78bab00672ff7c6493f7f5a46   \n14  0x7947e3194290195aeb32c4fbe0cb4eaea305aa71   \n15  0xab4ad0cceab0323e01f9115d2859396cfe33b11e   \n16  0xafa8e7bb02eb018106335261df292357e5e50d9b   \n17  0xcfc1df78e68e47cd2b2abe94fc6af9adb7e4c3ed   \n18  0xe6a484bbaa7d6d880b7dda58ae0cc2b50b149cd9   \n19  0x4982085c9e2f89f2ecb8131eca71afad896e89cb   \n20  0x124d9bf2fecbc16b54ec4accdb14d44c2144f012   \n21  0x4d485d06fabb4f99b5857ddba5d2061275ea5f51   \n22  0x34ac1c12bc09b6f2532800446f404c91bae29d48   \n23  0x124d9bf2fecbc16b54ec4accdb14d44c2144f012   \n24  0x3d24da45253fee775c065d0bb590948817f16819   \n25  0x5e5699172f8cd8a3c089f78926b93606733fa8f6   \n26  0x124d9bf2fecbc16b54ec4accdb14d44c2144f012   \n27  0x124d9bf2fecbc16b54ec4accdb14d44c2144f012   \n\n                                             Quantity  \n0                                      469,097,590.76  \n1                                       2,092,827,107  \n2                                    2,259,091,606.73  \n3                                    6,579,922,598.99  \n4                                       5,250,300,280  \n5                                          11,109,460  \n6                                      40,000,000,000  \n7                                      232,327,873.36  \n8                                      469,097,590.76  \n9                                       2,092,827,107  \n10                     828,470,321.841,430,621,284.89  \n11                   3,333,520,677.643,246,401,921.35  \n12                                     232,327,873.36  \n13                   1,639,883,632.983,295,019,674.14  \n14                                      32,893,159.66  \n15  2,174,987,173.832,154,198,2022,896,051,112.891...  \n16                                      86,425,581.37  \n17                                   2,392,584,770.92  \n18  990,873,0241,164,694,490.571,111,562,679.17988...  \n19                                     40,000,000,000  \n20                   1,639,883,632.983,295,019,674.14  \n21                                      43,116,423.66  \n22                                      5,250,300,280  \n23  4,329,185,375.832,896,051,112.891,857,247,607....  \n24                                     40,000,000,000  \n25                                     40,000,000,000  \n26                                   2,392,584,770.92  \n27  990,873,0241,164,694,490.571,111,562,679.17988...  ",
      "text/html": "<div>\n<style scoped>\n    .dataframe tbody tr th:only-of-type {\n        vertical-align: middle;\n    }\n\n    .dataframe tbody tr th {\n        vertical-align: top;\n    }\n\n    .dataframe thead th {\n        text-align: right;\n    }\n</style>\n<table border=\"1\" class=\"dataframe\">\n  <thead>\n    <tr style=\"text-align: right;\">\n      <th></th>\n      <th>From</th>\n      <th>To</th>\n      <th>Quantity</th>\n    </tr>\n  </thead>\n  <tbody>\n    <tr>\n      <th>0</th>\n      <td>0x14aaee642a3db0f7ae84f74994de9ee20980ff6a</td>\n      <td>0x124d9bf2fecbc16b54ec4accdb14d44c2144f012</td>\n      <td>469,097,590.76</td>\n    </tr>\n    <tr>\n      <th>1</th>\n      <td>0x18273dda6fa28eb8a7265762828845cb5c4469c8</td>\n      <td>0x124d9bf2fecbc16b54ec4accdb14d44c2144f012</td>\n      <td>2,092,827,107</td>\n    </tr>\n    <tr>\n      <th>2</th>\n      <td>0x1ce7287f50742685a69d0f0b66707247429c1212</td>\n      <td>0x124d9bf2fecbc16b54ec4accdb14d44c2144f012</td>\n      <td>2,259,091,606.73</td>\n    </tr>\n    <tr>\n      <th>3</th>\n      <td>0x26b9a8beb8f15a53e4a7eccfd098e367eff7dbb9</td>\n      <td>0x124d9bf2fecbc16b54ec4accdb14d44c2144f012</td>\n      <td>6,579,922,598.99</td>\n    </tr>\n    <tr>\n      <th>4</th>\n      <td>0x34ac1c12bc09b6f2532800446f404c91bae29d48</td>\n      <td>0x4982085c9e2f89f2ecb8131eca71afad896e89cb</td>\n      <td>5,250,300,280</td>\n    </tr>\n    <tr>\n      <th>5</th>\n      <td>0x3b3dc5d42db91ee379a1d42911564b60c738e3b9</td>\n      <td>0xa3ac0659fe5286c30bfb52caabe2ea332a1354d3</td>\n      <td>11,109,460</td>\n    </tr>\n    <tr>\n      <th>6</th>\n      <td>0x3d24da45253fee775c065d0bb590948817f16819</td>\n      <td>0x124d9bf2fecbc16b54ec4accdb14d44c2144f012</td>\n      <td>40,000,000,000</td>\n    </tr>\n    <tr>\n      <th>7</th>\n      <td>0x482a1efc09e4c2eb8d33b850a365c37b6043357f</td>\n      <td>0x75987b9edb5463ce1a3a857e11671424600927a4</td>\n      <td>232,327,873.36</td>\n    </tr>\n    <tr>\n      <th>8</th>\n      <td>0x4982085c9e2f89f2ecb8131eca71afad896e89cb</td>\n      <td>0x14aaee642a3db0f7ae84f74994de9ee20980ff6a</td>\n      <td>469,097,590.76</td>\n    </tr>\n    <tr>\n      <th>9</th>\n      <td>0x4982085c9e2f89f2ecb8131eca71afad896e89cb</td>\n      <td>0x18273dda6fa28eb8a7265762828845cb5c4469c8</td>\n      <td>2,092,827,107</td>\n    </tr>\n    <tr>\n      <th>10</th>\n      <td>0x4982085c9e2f89f2ecb8131eca71afad896e89cb</td>\n      <td>0x1ce7287f50742685a69d0f0b66707247429c1212</td>\n      <td>828,470,321.841,430,621,284.89</td>\n    </tr>\n    <tr>\n      <th>11</th>\n      <td>0x4982085c9e2f89f2ecb8131eca71afad896e89cb</td>\n      <td>0x26b9a8beb8f15a53e4a7eccfd098e367eff7dbb9</td>\n      <td>3,333,520,677.643,246,401,921.35</td>\n    </tr>\n    <tr>\n      <th>12</th>\n      <td>0x4982085c9e2f89f2ecb8131eca71afad896e89cb</td>\n      <td>0x482a1efc09e4c2eb8d33b850a365c37b6043357f</td>\n      <td>232,327,873.36</td>\n    </tr>\n    <tr>\n      <th>13</th>\n      <td>0x4982085c9e2f89f2ecb8131eca71afad896e89cb</td>\n      <td>0x619b4779482ebbf78bab00672ff7c6493f7f5a46</td>\n      <td>1,639,883,632.983,295,019,674.14</td>\n    </tr>\n    <tr>\n      <th>14</th>\n      <td>0x4982085c9e2f89f2ecb8131eca71afad896e89cb</td>\n      <td>0x7947e3194290195aeb32c4fbe0cb4eaea305aa71</td>\n      <td>32,893,159.66</td>\n    </tr>\n    <tr>\n      <th>15</th>\n      <td>0x4982085c9e2f89f2ecb8131eca71afad896e89cb</td>\n      <td>0xab4ad0cceab0323e01f9115d2859396cfe33b11e</td>\n      <td>2,174,987,173.832,154,198,2022,896,051,112.891...</td>\n    </tr>\n    <tr>\n      <th>16</th>\n      <td>0x4982085c9e2f89f2ecb8131eca71afad896e89cb</td>\n      <td>0xafa8e7bb02eb018106335261df292357e5e50d9b</td>\n      <td>86,425,581.37</td>\n    </tr>\n    <tr>\n      <th>17</th>\n      <td>0x4982085c9e2f89f2ecb8131eca71afad896e89cb</td>\n      <td>0xcfc1df78e68e47cd2b2abe94fc6af9adb7e4c3ed</td>\n      <td>2,392,584,770.92</td>\n    </tr>\n    <tr>\n      <th>18</th>\n      <td>0x4982085c9e2f89f2ecb8131eca71afad896e89cb</td>\n      <td>0xe6a484bbaa7d6d880b7dda58ae0cc2b50b149cd9</td>\n      <td>990,873,0241,164,694,490.571,111,562,679.17988...</td>\n    </tr>\n    <tr>\n      <th>19</th>\n      <td>0x5e5699172f8cd8a3c089f78926b93606733fa8f6</td>\n      <td>0x4982085c9e2f89f2ecb8131eca71afad896e89cb</td>\n      <td>40,000,000,000</td>\n    </tr>\n    <tr>\n      <th>20</th>\n      <td>0x619b4779482ebbf78bab00672ff7c6493f7f5a46</td>\n      <td>0x124d9bf2fecbc16b54ec4accdb14d44c2144f012</td>\n      <td>1,639,883,632.983,295,019,674.14</td>\n    </tr>\n    <tr>\n      <th>21</th>\n      <td>0x7947e3194290195aeb32c4fbe0cb4eaea305aa71</td>\n      <td>0x4d485d06fabb4f99b5857ddba5d2061275ea5f51</td>\n      <td>43,116,423.66</td>\n    </tr>\n    <tr>\n      <th>22</th>\n      <td>0x971412625c134ee530258e9f7d5df7306e76e25d</td>\n      <td>0x34ac1c12bc09b6f2532800446f404c91bae29d48</td>\n      <td>5,250,300,280</td>\n    </tr>\n    <tr>\n      <th>23</th>\n      <td>0xab4ad0cceab0323e01f9115d2859396cfe33b11e</td>\n      <td>0x124d9bf2fecbc16b54ec4accdb14d44c2144f012</td>\n      <td>4,329,185,375.832,896,051,112.891,857,247,607....</td>\n    </tr>\n    <tr>\n      <th>24</th>\n      <td>0xb500db9df160204769b79c41a423dc872e41e9de</td>\n      <td>0x3d24da45253fee775c065d0bb590948817f16819</td>\n      <td>40,000,000,000</td>\n    </tr>\n    <tr>\n      <th>25</th>\n      <td>0xb500db9df160204769b79c41a423dc872e41e9de</td>\n      <td>0x5e5699172f8cd8a3c089f78926b93606733fa8f6</td>\n      <td>40,000,000,000</td>\n    </tr>\n    <tr>\n      <th>26</th>\n      <td>0xcfc1df78e68e47cd2b2abe94fc6af9adb7e4c3ed</td>\n      <td>0x124d9bf2fecbc16b54ec4accdb14d44c2144f012</td>\n      <td>2,392,584,770.92</td>\n    </tr>\n    <tr>\n      <th>27</th>\n      <td>0xe6a484bbaa7d6d880b7dda58ae0cc2b50b149cd9</td>\n      <td>0x124d9bf2fecbc16b54ec4accdb14d44c2144f012</td>\n      <td>990,873,0241,164,694,490.571,111,562,679.17988...</td>\n    </tr>\n  </tbody>\n</table>\n</div>"
     },
     "execution_count": 59,
     "metadata": {},
     "output_type": "execute_result"
    }
   ],
   "source": [
    "df_groupped"
   ],
   "metadata": {
    "collapsed": false,
    "pycharm": {
     "name": "#%%\n"
    }
   }
  },
  {
   "cell_type": "code",
   "execution_count": 92,
   "outputs": [
    {
     "data": {
      "text/plain": "<Figure size 432x288 with 1 Axes>",
      "image/png": "[encoded data removed]"
     },
     "metadata": {},
     "output_type": "display_data"
    }
   ],
   "source": [
    "import networkx as nx\n",
    "import matplotlib.pyplot as plt\n",
    "G = nx.DiGraph()\n",
    "\n",
    "for i in df_groupped.loc[:,['From', 'To', 'Quantity']].values:\n",
    "    G.add_edge(i[0], i[1], weight = i[2])\n",
    "\n",
    "\n",
    "show_wgraph()\n"
   ],
   "metadata": {
    "collapsed": false,
    "pycharm": {
     "name": "#%%\n"
    }
   }
  },
  {
   "cell_type": "code",
   "execution_count": 93,
   "outputs": [],
   "source": [
    "df_groupped.to_csv('weightedgraph.csv', index=False)"
   ],
   "metadata": {
    "collapsed": false,
    "pycharm": {
     "name": "#%%\n"
    }
   }
  }
 ],
 "metadata": {
  "kernelspec": {
   "display_name": "Python 3",
   "language": "python",
   "name": "python3"
  },
  "language_info": {
   "codemirror_mode": {
    "name": "ipython",
    "version": 2
   },
   "file_extension": ".py",
   "mimetype": "text/x-python",
   "name": "python",
   "nbconvert_exporter": "python",
   "pygments_lexer": "ipython2",
   "version": "2.7.6"
  }
 },
 "nbformat": 4,
 "nbformat_minor": 0
}